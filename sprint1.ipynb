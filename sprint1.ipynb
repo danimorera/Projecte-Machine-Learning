{
 "cells": [
  {
   "cell_type": "markdown",
   "metadata": {},
   "source": [
    "# Sprint 1"
   ]
  },
  {
   "cell_type": "markdown",
   "metadata": {},
   "source": [
    "- Exercici 1\n",
    "Instal·la el programa Anaconda amb Python 3, i Jupyter Notebook.\n",
    "\n",
    "- Exercici 2\n",
    "Crea un entorn virtual a Anaconda amb el nom \"entorn_ML\" que contingui les llibreries necessàries per a ML.\n",
    "\n",
    "- Exercici 3\n",
    "Utilitzant Jupyter Notebook executa alguns càlculs senzills, a la vegada que et familiaritzes amb el llenguatge Markdown.\n",
    "\n",
    "- Exercici 4\n",
    "Prova de crear títols, llistes, canviar l’estil de la lletra o afegir imatges dins del Notebook.\n",
    "\n",
    "- Exercici 5\n",
    "Crea un repositori a GitHub amb el nom \"Projecte Machine Learning\"\n",
    "\n",
    "- Exercici 6\n",
    "Puja el fitxer de Jupyter Notebook al teu repositori de GitHub."
   ]
  },
  {
   "cell_type": "code",
   "execution_count": 1,
   "metadata": {},
   "outputs": [
    {
     "name": "stdout",
     "output_type": "stream",
     "text": [
      "4\n"
     ]
    }
   ],
   "source": [
    "result = 2+2\n",
    "\n",
    "print(result)"
   ]
  },
  {
   "cell_type": "markdown",
   "metadata": {},
   "source": [
    "\n",
    "<img src=https://github.githubassets.com/assets/GitHub-Mark-ea2971cee799.png width=\"100\"/>\n",
    "\n",
    "El repositori es troba al seguent [enllaç](https://github.com/danimorera/Projecte-Machine-Learning)"
   ]
  }
 ],
 "metadata": {
  "kernelspec": {
   "display_name": "entorn_ML",
   "language": "python",
   "name": "python3"
  },
  "language_info": {
   "codemirror_mode": {
    "name": "ipython",
    "version": 3
   },
   "file_extension": ".py",
   "mimetype": "text/x-python",
   "name": "python",
   "nbconvert_exporter": "python",
   "pygments_lexer": "ipython3",
   "version": "3.10.11"
  }
 },
 "nbformat": 4,
 "nbformat_minor": 2
}
