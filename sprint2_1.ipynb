{
 "cells": [
  {
   "cell_type": "code",
   "execution_count": 1,
   "metadata": {},
   "outputs": [
    {
     "data": {
      "text/plain": [
       "array([0.65602968])"
      ]
     },
     "execution_count": 1,
     "metadata": {},
     "output_type": "execute_result"
    }
   ],
   "source": [
    "from sklearn.datasets import make_moons #importem dades\n",
    "from sklearn.linear_model import LinearRegression #importem model\n",
    "\n",
    "datos, resultados = make_moons(n_samples=100, noise=0.15)\n",
    "\n",
    "lin_reg = LinearRegression(fit_intercept=True, n_jobs=1) #ajustem el model hiperparametres\n",
    "lin_reg.fit(X=datos, y=resultados) #entrenamos algoritmo\n",
    "\n",
    "\n",
    "lin_reg.predict([[2.1, 0.46]]) #fem prediccions"
   ]
  }
 ],
 "metadata": {
  "kernelspec": {
   "display_name": "entorn_ML",
   "language": "python",
   "name": "python3"
  },
  "language_info": {
   "codemirror_mode": {
    "name": "ipython",
    "version": 3
   },
   "file_extension": ".py",
   "mimetype": "text/x-python",
   "name": "python",
   "nbconvert_exporter": "python",
   "pygments_lexer": "ipython3",
   "version": "3.10.11"
  }
 },
 "nbformat": 4,
 "nbformat_minor": 2
}
